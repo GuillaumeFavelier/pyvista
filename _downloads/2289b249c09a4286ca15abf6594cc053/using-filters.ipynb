{
  "cells": [
    {
      "cell_type": "code",
      "execution_count": null,
      "metadata": {
        "collapsed": false
      },
      "outputs": [],
      "source": [
        "%matplotlib inline"
      ]
    },
    {
      "cell_type": "markdown",
      "metadata": {},
      "source": [
        "\nUsing Common Filters\n~~~~~~~~~~~~~~~~~~~~\n\nUsing common filters like thresholding and clipping\n"
      ]
    },
    {
      "cell_type": "markdown",
      "metadata": {},
      "source": [
        "``vtki`` wrapped data objects have a suite of common filters ready for immediate\nuse directly on the object. These filters include the following\n(see `filters_ref` for a complete list):\n\n* ``slice``: creates a single slice through the input dataset on a user defined plane\n* ``slice_orthogonal``: creates a ``MultiBlock`` dataset of three orthogonal slices\n* ``slice_along_axis``: creates a ``MultiBlock`` dataset of many slices along a specified axis\n* ``threshold``: Thresholds a dataset by a single value or range of values\n* ``threshold_percent``: Threshold by percentages of the scalar range\n* ``clip``: Clips the dataset by a user defined plane\n* ``outline_corners``: Outlines the corners of the data extent\n* ``extract_geometry``: Extract surface geometry\n\nTo use these filters, call the method of your choice directly on your data\nobject:\n\n"
      ]
    },
    {
      "cell_type": "code",
      "execution_count": null,
      "metadata": {
        "collapsed": false
      },
      "outputs": [],
      "source": [
        "import vtki\nfrom vtki import examples\n\ndataset = examples.load_uniform()\n\n# Apply a threshold over a data range\nresult = dataset.threshold([100, 500])"
      ]
    },
    {
      "cell_type": "markdown",
      "metadata": {},
      "source": [
        "And now there is a thresholded version of the input dataset in the new\n``result`` object. To learn more about what keyword arguments are available to\nalter how filters are executed, print the docstring for any filter attached to\n``vtki`` objects with either ``help(dataset.threshold)`` or using ``shift+tab``\nin an IPython environment.\n\nWe can now plot this filtered dataset along side an outline of the original\ndataset\n\n"
      ]
    },
    {
      "cell_type": "code",
      "execution_count": null,
      "metadata": {
        "collapsed": false
      },
      "outputs": [],
      "source": [
        "p = vtki.Plotter()\np.add_mesh(dataset.outline(), color='k')\np.add_mesh(result)\np.camera_position = [-2,5,3]\np.show()"
      ]
    },
    {
      "cell_type": "markdown",
      "metadata": {},
      "source": [
        "Filter Pipeline\n+++++++++++++++\n\nIn VTK, filters are often used in a pipeline where each algorithm passes its\noutput to the next filtering algorithm. In ``vtki``, we can mimic the filtering\npipeline through a chain; attaching each filter to the last filter.\nIn the following example, several filters are chained together:\n\n1. First, and empty ``threshold`` filter to clean out any ``NaN`` values.\n2. Use an ``elevation`` filter to generate scalar values corresponding to height.\n3. Use the ``clip`` filter to cut the dataset in half.\n4. Create three slices along each axial plane using the ``slice_orthogonal`` filter.\n\n"
      ]
    },
    {
      "cell_type": "code",
      "execution_count": null,
      "metadata": {
        "collapsed": false
      },
      "outputs": [],
      "source": [
        "# Apply a filtering chain\nresult = dataset.threshold().elevation().clip(normal='z').slice_orthogonal()"
      ]
    },
    {
      "cell_type": "markdown",
      "metadata": {},
      "source": [
        "And to view this filtered data, simply call the ``plot`` method\n(``result.plot()``) or create a rendering scene:\n\n"
      ]
    },
    {
      "cell_type": "code",
      "execution_count": null,
      "metadata": {
        "collapsed": false
      },
      "outputs": [],
      "source": [
        "p = vtki.Plotter()\np.add_mesh(dataset.outline(), color='k')\np.add_mesh(result, scalars='Elevation')\np.view_isometric()\np.show()"
      ]
    }
  ],
  "metadata": {
    "kernelspec": {
      "display_name": "Python 3",
      "language": "python",
      "name": "python3"
    },
    "language_info": {
      "codemirror_mode": {
        "name": "ipython",
        "version": 3
      },
      "file_extension": ".py",
      "mimetype": "text/x-python",
      "name": "python",
      "nbconvert_exporter": "python",
      "pygments_lexer": "ipython3",
      "version": "3.7.1"
    }
  },
  "nbformat": 4,
  "nbformat_minor": 0
}