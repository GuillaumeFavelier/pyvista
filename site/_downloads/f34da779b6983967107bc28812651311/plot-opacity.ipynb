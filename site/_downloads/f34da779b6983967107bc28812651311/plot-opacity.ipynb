{
  "cells": [
    {
      "cell_type": "code",
      "execution_count": null,
      "metadata": {
        "collapsed": false
      },
      "outputs": [],
      "source": [
        "%matplotlib inline"
      ]
    },
    {
      "cell_type": "markdown",
      "metadata": {},
      "source": [
        "\nPlot with Opacity\n-----------------\n\nPlot a mesh's scalar array with an opacity trasfer funciton\n"
      ]
    },
    {
      "cell_type": "markdown",
      "metadata": {},
      "source": [
        "It's possible to apply an opacity mapping to any scalar array plotted. You can\nspecify either a single static value to make the mesh opaque on all cells, or\nuse a transfer function where the scalar array plotted is mapped to the opacity.\n\nOpacity transfer function options are:\n\n- ``'linear'``: linearly vary (increase) opacity across the plotted scalar range from low to high\n- ``'linear_r'``: linearly vary (increase) opacity across the plotted scalar range from high to low\n- ``'geom'``: on a log scale, vary (increase) opacity across the plotted scalar range from low to high\n- ``'geom_r'``: on a log scale, vary (increase) opacity across the plotted scalar range from high to low\n\n"
      ]
    },
    {
      "cell_type": "code",
      "execution_count": null,
      "metadata": {
        "collapsed": false
      },
      "outputs": [],
      "source": [
        "import vtki\nfrom vtki import examples\n\n# Load St Helens DEM and warp the topography\nmesh = examples.download_st_helens().warp_by_scalar()\n\nmesh.plot(opacity='linear')"
      ]
    }
  ],
  "metadata": {
    "kernelspec": {
      "display_name": "Python 3",
      "language": "python",
      "name": "python3"
    },
    "language_info": {
      "codemirror_mode": {
        "name": "ipython",
        "version": 3
      },
      "file_extension": ".py",
      "mimetype": "text/x-python",
      "name": "python",
      "nbconvert_exporter": "python",
      "pygments_lexer": "ipython3",
      "version": "3.7.1"
    }
  },
  "nbformat": 4,
  "nbformat_minor": 0
}